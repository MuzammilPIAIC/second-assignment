{
 "cells": [
  {
   "cell_type": "markdown",
   "metadata": {},
   "source": [
    "# The ABC company has hired you as an intern on the coding team that creates e-commerce applications.  \n",
    "You must write a script that asks the user for a value. The value must be used as a whole number in a calculation, even if the user enters a decimal value. \n",
    "\n",
    "You need to write the code to meet the requirements."
   ]
  },
  {
   "cell_type": "code",
   "execution_count": 24,
   "metadata": {},
   "outputs": [
    {
     "name": "stdout",
     "output_type": "stream",
     "text": [
      "Enter the no of item 6\n",
      "6.0\n"
     ]
    }
   ],
   "source": [
    "Items=float(input(\"Enter the no of item \"))\n",
    "print(Items)"
   ]
  },
  {
   "cell_type": "code",
   "execution_count": 27,
   "metadata": {},
   "outputs": [
    {
     "name": "stdout",
     "output_type": "stream",
     "text": [
      "Thank You for Shopping 6 Items From ABC Company\n"
     ]
    }
   ],
   "source": [
    "print (\"Thank You for Shopping\",int(Items),\"Items From ABC Company\")"
   ]
  },
  {
   "cell_type": "markdown",
   "metadata": {},
   "source": [
    "# You are creating a Python program that shows a congratulation message to employees on their service anniversary.\n",
    "You need to calculate the number of years of service and print a congratulatory message. You should take the inputs from the users where necessary"
   ]
  },
  {
   "cell_type": "code",
   "execution_count": 42,
   "metadata": {},
   "outputs": [
    {
     "name": "stdout",
     "output_type": "stream",
     "text": [
      "Enter your starting year:2000\n"
     ]
    }
   ],
   "source": [
    "started_year=int(input(\"Enter your starting year:\"))\n"
   ]
  },
  {
   "cell_type": "code",
   "execution_count": 35,
   "metadata": {},
   "outputs": [
    {
     "name": "stdout",
     "output_type": "stream",
     "text": [
      "Enter your Anniversary year:2019\n"
     ]
    }
   ],
   "source": [
    "anniversary_year=int(input(\"Enter your Anniversary year:\"))"
   ]
  },
  {
   "cell_type": "code",
   "execution_count": 45,
   "metadata": {},
   "outputs": [
    {
     "name": "stdout",
     "output_type": "stream",
     "text": [
      "Congratulation! your -19 Anniversary in our Company\n"
     ]
    }
   ],
   "source": [
    "print(\"Congratulation! your\",started_year-anniversary_year,\"Anniversary in our Company\")"
   ]
  },
  {
   "cell_type": "markdown",
   "metadata": {},
   "source": [
    "# Write a Python program to convert temperatures  from fahrenheit to celsius, \n",
    "#step 1: take \"fahrenheit Temperature\" from user in integer data type\n",
    "#step 2: apply formula that is       (  C = (5/9) * (fahrenheit_temperature - 32)  )\n",
    "#step 3: print step 2. "
   ]
  },
  {
   "cell_type": "code",
   "execution_count": 46,
   "metadata": {},
   "outputs": [
    {
     "name": "stdout",
     "output_type": "stream",
     "text": [
      "temp in fr:90\n"
     ]
    }
   ],
   "source": [
    "fahrenheit = int(input(\"temp in fr:\"))"
   ]
  },
  {
   "cell_type": "code",
   "execution_count": 47,
   "metadata": {},
   "outputs": [],
   "source": [
    "celsius=((5/9) * (fahrenheit-32))"
   ]
  },
  {
   "cell_type": "code",
   "execution_count": 48,
   "metadata": {},
   "outputs": [
    {
     "name": "stdout",
     "output_type": "stream",
     "text": [
      "The Teamperature is 32 In Celsius\n"
     ]
    }
   ],
   "source": [
    "print(\"The Teamperature is\",int(celsius),\"In Celsius\")"
   ]
  },
  {
   "cell_type": "markdown",
   "metadata": {},
   "source": [
    "<h3>assign a vlue to grade by checking the following conditions:: </h3>\n",
    "<h3>if % is greater then and equal to 90 and less then 100 grade is A+ </h3>\n",
    "<h3>if % is greater then and equal to 80 and less then 90 grade is A </h3>\n",
    "<h3>if % is greater then and equal to 70 and less then 80 grade is B </h3>\n",
    "<h3>if % is greater then and equal to 60 and less then 70 grade is C </h3>\n",
    "<h3>if % is less than 60 grade is FAIL </h3>\n"
   ]
  },
  {
   "cell_type": "code",
   "execution_count": 49,
   "metadata": {},
   "outputs": [],
   "source": [
    "maths=99\n",
    "english=67\n",
    "urdu=94\n",
    "islamiyat=90\n",
    "sindhi=66"
   ]
  },
  {
   "cell_type": "code",
   "execution_count": 51,
   "metadata": {},
   "outputs": [],
   "source": []
  },
  {
   "cell_type": "code",
   "execution_count": 64,
   "metadata": {},
   "outputs": [
    {
     "name": "stdout",
     "output_type": "stream",
     "text": [
      "Marks Obtained -> 416\n",
      "Percentage -> 83.2 %\n"
     ]
    }
   ],
   "source": [
    "Total_Marks = 500\n",
    "\n",
    "Obtained_Marks = maths + english + urdu + islamiyat + sindhi\n",
    "\n",
    "print(\"Marks Obtained ->\" , Obtained_Marks)\n",
    "\n",
    "percentage = (Obtained_Marks/Total_Marks)*100\n",
    "\n",
    "print(\"Percentage ->\", percentage,'%')"
   ]
  },
  {
   "cell_type": "code",
   "execution_count": 65,
   "metadata": {},
   "outputs": [],
   "source": [
    "Grade = None\n",
    "\n",
    "if Percentage >= 90 and Percentage <= 100 :\n",
    "    Grade = \"A+\"\n",
    "elif Percentage >= 80 and Percentage < 90 :\n",
    "    Grade = \"A\"\n",
    "elif Percentage >= 70 and Percentage < 80 :\n",
    "    Grade = \"B\"\n",
    "elif Percentage >= 60 and Percentage < 70 :\n",
    "    Grade = \"C\"\n",
    "elif Percentage < 60 :\n",
    "    Grade = \"F\""
   ]
  },
  {
   "cell_type": "markdown",
   "metadata": {},
   "source": [
    "<h3>Print grade percentage and obtained marks</h3>"
   ]
  },
  {
   "cell_type": "code",
   "execution_count": 66,
   "metadata": {},
   "outputs": [
    {
     "name": "stdout",
     "output_type": "stream",
     "text": [
      "Grade= A Percentage= 83.2 % Obtained_Marks= 416\n"
     ]
    }
   ],
   "source": [
    "print(\"Grade=\" ,Grade, \"Percentage=\",Percentage,\"%\", \"Obtained_Marks=\", Obtained_Marks)"
   ]
  },
  {
   "cell_type": "code",
   "execution_count": null,
   "metadata": {},
   "outputs": [],
   "source": []
  }
 ],
 "metadata": {
  "kernelspec": {
   "display_name": "Python 3",
   "language": "python",
   "name": "python3"
  },
  "language_info": {
   "codemirror_mode": {
    "name": "ipython",
    "version": 3
   },
   "file_extension": ".py",
   "mimetype": "text/x-python",
   "name": "python",
   "nbconvert_exporter": "python",
   "pygments_lexer": "ipython3",
   "version": "3.7.3"
  }
 },
 "nbformat": 4,
 "nbformat_minor": 2
}
